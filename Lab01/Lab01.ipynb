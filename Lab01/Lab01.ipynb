{
  "nbformat": 4,
  "nbformat_minor": 0,
  "metadata": {
    "colab": {
      "name": "Lab01.ipynb",
      "provenance": [],
      "include_colab_link": true
    },
    "kernelspec": {
      "name": "python3",
      "display_name": "Python 3"
    },
    "language_info": {
      "name": "python"
    }
  },
  "cells": [
    {
      "cell_type": "markdown",
      "metadata": {
        "id": "view-in-github",
        "colab_type": "text"
      },
      "source": [
        "<a href=\"https://colab.research.google.com/github/paviliondd/PythonNC/blob/main/Lab01/Lab01.ipynb\" target=\"_parent\"><img src=\"https://colab.research.google.com/assets/colab-badge.svg\" alt=\"Open In Colab\"/></a>"
      ]
    },
    {
      "cell_type": "code",
      "metadata": {
        "id": "TA00Wv76SZP7",
        "colab": {
          "base_uri": "https://localhost:8080/"
        },
        "outputId": "015cd91c-23f8-4695-94e7-adad91cb89a1"
      },
      "source": [
        "min(2, 3, 4)"
      ],
      "execution_count": 1,
      "outputs": [
        {
          "output_type": "execute_result",
          "data": {
            "text/plain": [
              "2"
            ]
          },
          "metadata": {},
          "execution_count": 1
        }
      ]
    },
    {
      "cell_type": "code",
      "metadata": {
        "id": "l_gtCUu6Sgdw",
        "colab": {
          "base_uri": "https://localhost:8080/"
        },
        "outputId": "1cdddb11-2089-42dc-a25d-88f2be10c3da"
      },
      "source": [
        " max(2, -3, 4, 7, -5)"
      ],
      "execution_count": 2,
      "outputs": [
        {
          "output_type": "execute_result",
          "data": {
            "text/plain": [
              "7"
            ]
          },
          "metadata": {},
          "execution_count": 2
        }
      ]
    },
    {
      "cell_type": "code",
      "metadata": {
        "colab": {
          "base_uri": "https://localhost:8080/"
        },
        "id": "jBhbcp1vVR62",
        "outputId": "b72844c4-605a-4c50-c0e8-ecd93baff99c"
      },
      "source": [
        "max(2, -3, min(4, 7), -5)"
      ],
      "execution_count": 3,
      "outputs": [
        {
          "output_type": "execute_result",
          "data": {
            "text/plain": [
              "4"
            ]
          },
          "metadata": {},
          "execution_count": 3
        }
      ]
    },
    {
      "cell_type": "code",
      "metadata": {
        "colab": {
          "base_uri": "https://localhost:8080/"
        },
        "id": "okdwtGO9V4Lj",
        "outputId": "e0398dea-3d6e-4028-d025-48d10ec96606"
      },
      "source": [
        "min(max(3, 4), abs(-5))"
      ],
      "execution_count": 4,
      "outputs": [
        {
          "output_type": "execute_result",
          "data": {
            "text/plain": [
              "4"
            ]
          },
          "metadata": {},
          "execution_count": 4
        }
      ]
    },
    {
      "cell_type": "code",
      "metadata": {
        "colab": {
          "base_uri": "https://localhost:8080/"
        },
        "id": "nADYSLfyXPlX",
        "outputId": "77fb74b5-74cb-47ae-b1ed-092aa0a14e20"
      },
      "source": [
        "abs(min(4, 6, max(2, 8)))"
      ],
      "execution_count": 5,
      "outputs": [
        {
          "output_type": "execute_result",
          "data": {
            "text/plain": [
              "4"
            ]
          },
          "metadata": {},
          "execution_count": 5
        }
      ]
    },
    {
      "cell_type": "code",
      "metadata": {
        "colab": {
          "base_uri": "https://localhost:8080/"
        },
        "id": "APFIabNaXTnA",
        "outputId": "a0bb9f24-2a36-49ba-a6b0-9ce168eb0aca"
      },
      "source": [
        "round(max(5.572, 3.258), abs(-2))"
      ],
      "execution_count": 6,
      "outputs": [
        {
          "output_type": "execute_result",
          "data": {
            "text/plain": [
              "5.57"
            ]
          },
          "metadata": {},
          "execution_count": 6
        }
      ]
    },
    {
      "cell_type": "code",
      "metadata": {
        "colab": {
          "base_uri": "https://localhost:8080/"
        },
        "id": "K_PNBsv0XgaV",
        "outputId": "8d137e64-92d8-4e2c-db8c-efcc264cff94"
      },
      "source": [
        "def triple(num): \n",
        "  return num * 3\n",
        "triple(3)"
      ],
      "execution_count": 7,
      "outputs": [
        {
          "output_type": "execute_result",
          "data": {
            "text/plain": [
              "9"
            ]
          },
          "metadata": {},
          "execution_count": 7
        }
      ]
    },
    {
      "cell_type": "code",
      "metadata": {
        "colab": {
          "base_uri": "https://localhost:8080/"
        },
        "id": "h7j5x8q-YD_J",
        "outputId": "384f1e6c-c159-4cb3-d3c2-6917041d3f16"
      },
      "source": [
        "def absolute_difference(number1, number2):\n",
        "  return abs(number1 - number2)\n",
        "absolute_difference(3, 7)"
      ],
      "execution_count": 8,
      "outputs": [
        {
          "output_type": "execute_result",
          "data": {
            "text/plain": [
              "4"
            ]
          },
          "metadata": {},
          "execution_count": 8
        }
      ]
    },
    {
      "cell_type": "code",
      "metadata": {
        "colab": {
          "base_uri": "https://localhost:8080/"
        },
        "id": "oI9X7yYFbhAb",
        "outputId": "8ce871ff-d05c-436b-9154-303c91588307"
      },
      "source": [
        "def km_to_miles(km):\n",
        "  return km / 1.6\n",
        "km_to_miles(5)\n"
      ],
      "execution_count": 9,
      "outputs": [
        {
          "output_type": "execute_result",
          "data": {
            "text/plain": [
              "3.125"
            ]
          },
          "metadata": {},
          "execution_count": 9
        }
      ]
    },
    {
      "cell_type": "code",
      "metadata": {
        "id": "vMnBvov4b4hU",
        "colab": {
          "base_uri": "https://localhost:8080/"
        },
        "outputId": "1c1c83a0-3d6d-4f79-e340-14c22cd4dcb0"
      },
      "source": [
        "def average_grade(grade1, grade2, grade3):\n",
        "  return (grade1 + grade2 + grade3) / 3\n",
        "average_grade(80, 95, 90)"
      ],
      "execution_count": 10,
      "outputs": [
        {
          "output_type": "execute_result",
          "data": {
            "text/plain": [
              "88.33333333333333"
            ]
          },
          "metadata": {},
          "execution_count": 10
        }
      ]
    },
    {
      "cell_type": "code",
      "metadata": {
        "id": "eksASgDtcAGw",
        "colab": {
          "base_uri": "https://localhost:8080/"
        },
        "outputId": "eef15273-4563-46f0-f3b5-68a196f5ad85"
      },
      "source": [
        "def top_three_avg(grade1, grade2, grade3, grade4):\n",
        "  total = grade1 + grade2 + grade3 + grade4\n",
        "  top_three = total - min(grade1, grade2, grade3, grade4)\n",
        "  return top_three / 3\n",
        "  return max(average_grade(grade1, grade2, grade3),\n",
        "  average_grade(grade1, grade2, grade4),\n",
        "  average_grade(grade1, grade3, grade4),\n",
        "  average_grade(grade2, grade3, grade4))\n",
        "\n",
        "  return (grade1 + grade2 + grade3) / 3\n",
        "top_three_avg(50, 60, 70, 80)"
      ],
      "execution_count": 11,
      "outputs": [
        {
          "output_type": "execute_result",
          "data": {
            "text/plain": [
              "70.0"
            ]
          },
          "metadata": {},
          "execution_count": 11
        }
      ]
    },
    {
      "cell_type": "code",
      "metadata": {
        "id": "nS-zYcEufWjZ",
        "colab": {
          "base_uri": "https://localhost:8080/"
        },
        "outputId": "e5270929-420a-4a27-dc31-1576ff673407"
      },
      "source": [
        "def weeks_elapsed(day1, day2):\n",
        "  return int(abs (day1 - day2)/7)\n",
        "print(weeks_elapsed(3, 20))\n",
        "print(weeks_elapsed(20, 3))\n",
        "print(weeks_elapsed(8, 5))\n",
        "print(weeks_elapsed(40, 61))\n",
        "\n",
        "\n",
        "\n",
        "\n"
      ],
      "execution_count": 12,
      "outputs": [
        {
          "output_type": "stream",
          "name": "stdout",
          "text": [
            "2\n",
            "2\n",
            "0\n",
            "3\n"
          ]
        }
      ]
    },
    {
      "cell_type": "code",
      "metadata": {
        "id": "rBHjqNaQtgvZ",
        "colab": {
          "base_uri": "https://localhost:8080/"
        },
        "outputId": "e01070b9-640e-4361-b64f-bd3fea24e29d"
      },
      "source": [
        "def square(num):\n",
        "  return num**2\n",
        "square(3)"
      ],
      "execution_count": 13,
      "outputs": [
        {
          "output_type": "execute_result",
          "data": {
            "text/plain": [
              "9"
            ]
          },
          "metadata": {},
          "execution_count": 13
        }
      ]
    }
  ]
}