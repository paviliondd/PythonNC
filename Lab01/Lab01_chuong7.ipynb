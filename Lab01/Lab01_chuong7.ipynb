{
  "nbformat": 4,
  "nbformat_minor": 0,
  "metadata": {
    "colab": {
      "name": "Lab01_chuong7.ipynb",
      "provenance": [],
      "include_colab_link": true
    },
    "kernelspec": {
      "name": "python3",
      "display_name": "Python 3"
    },
    "language_info": {
      "name": "python"
    }
  },
  "cells": [
    {
      "cell_type": "markdown",
      "metadata": {
        "id": "view-in-github",
        "colab_type": "text"
      },
      "source": [
        "<a href=\"https://colab.research.google.com/github/paviliondd/PythonNC/blob/main/Lab01/Lab01_chuong7.ipynb\" target=\"_parent\"><img src=\"https://colab.research.google.com/assets/colab-badge.svg\" alt=\"Open In Colab\"/></a>"
      ]
    },
    {
      "cell_type": "markdown",
      "metadata": {
        "id": "DbX5sybyzyta"
      },
      "source": [
        "Cau 1:"
      ]
    },
    {
      "cell_type": "code",
      "metadata": {
        "colab": {
          "base_uri": "https://localhost:8080/"
        },
        "id": "Jx2IJ3JtzXtn",
        "outputId": "8bf84595-f7d6-4fdd-fe36-3fdaa9fda663"
      },
      "source": [
        "#a\n",
        "print('hello'.upper())\n",
        "#b\n",
        "print('Happy Birthday!'.lower())\n",
        "#c\n",
        "print('WeeeEEEEeeeEEEEeee'.swapcase())\n",
        "#d\n",
        "print('ABC123'.isupper())\n",
        "#e\n",
        "print('aeiouAEIOU'.count('a'))\n",
        "#f\n",
        "print('hello'.endswith('o'))\n",
        "#g\n",
        "print('hello'.startswith('H'))\n",
        "#h\n",
        "print('Hello {0}'.format('Python'))\n",
        "#i\n",
        "print('Hello {0}! Hello {1}!'.format('Python', 'World'))"
      ],
      "execution_count": 1,
      "outputs": [
        {
          "output_type": "stream",
          "name": "stdout",
          "text": [
            "HELLO\n",
            "happy birthday!\n",
            "wEEEeeeeEEEeeeeEEE\n",
            "True\n",
            "1\n",
            "True\n",
            "False\n",
            "Hello Python\n",
            "Hello Python! Hello World!\n"
          ]
        }
      ]
    },
    {
      "cell_type": "markdown",
      "metadata": {
        "id": "5XF1mdFq3-Ai"
      },
      "source": [
        "Cau2:"
      ]
    },
    {
      "cell_type": "code",
      "metadata": {
        "colab": {
          "base_uri": "https://localhost:8080/"
        },
        "id": "wFysiUJN4BJE",
        "outputId": "e8b0e4a6-980b-4a3a-9818-8244ef089990"
      },
      "source": [
        "'tomato'.count('o')"
      ],
      "execution_count": 2,
      "outputs": [
        {
          "output_type": "execute_result",
          "data": {
            "text/plain": [
              "2"
            ]
          },
          "metadata": {},
          "execution_count": 2
        }
      ]
    },
    {
      "cell_type": "markdown",
      "metadata": {
        "id": "OKTFvcTU4HS6"
      },
      "source": [
        "Cau 3"
      ]
    },
    {
      "cell_type": "code",
      "metadata": {
        "colab": {
          "base_uri": "https://localhost:8080/"
        },
        "id": "uPRDIgCn4Igc",
        "outputId": "61a0f860-1f68-46fa-ef49-ab5de953ffbc"
      },
      "source": [
        "'tomato'.find('o')"
      ],
      "execution_count": 3,
      "outputs": [
        {
          "output_type": "execute_result",
          "data": {
            "text/plain": [
              "1"
            ]
          },
          "metadata": {},
          "execution_count": 3
        }
      ]
    },
    {
      "cell_type": "markdown",
      "metadata": {
        "id": "AxX9gYAg4Qkp"
      },
      "source": [
        "Cau 4"
      ]
    },
    {
      "cell_type": "code",
      "metadata": {
        "id": "m_mDY0n34QM3",
        "colab": {
          "base_uri": "https://localhost:8080/"
        },
        "outputId": "2c6a16c1-7214-4ac4-d7cb-322dfd177c41"
      },
      "source": [
        "'tomato'.find('o', 'tomato'.find('o') + 1)"
      ],
      "execution_count": 4,
      "outputs": [
        {
          "output_type": "execute_result",
          "data": {
            "text/plain": [
              "5"
            ]
          },
          "metadata": {},
          "execution_count": 4
        }
      ]
    },
    {
      "cell_type": "markdown",
      "metadata": {
        "id": "RhmI1t6R4WjW"
      },
      "source": [
        "Cau 5\n"
      ]
    },
    {
      "cell_type": "code",
      "metadata": {
        "id": "O-oZcaHD4X4O",
        "colab": {
          "base_uri": "https://localhost:8080/"
        },
        "outputId": "6b397af7-8d9c-432b-8837-8209bb21b619"
      },
      "source": [
        "'avocado'.find('o', 'avocado'.find('o') + 1)"
      ],
      "execution_count": 5,
      "outputs": [
        {
          "output_type": "execute_result",
          "data": {
            "text/plain": [
              "6"
            ]
          },
          "metadata": {},
          "execution_count": 5
        }
      ]
    },
    {
      "cell_type": "markdown",
      "metadata": {
        "id": "vhAwRgfq4Z2C"
      },
      "source": [
        "Cau 6:"
      ]
    },
    {
      "cell_type": "code",
      "metadata": {
        "id": "VEgyp4sJ4bMj",
        "colab": {
          "base_uri": "https://localhost:8080/",
          "height": 36
        },
        "outputId": "43e9b0e8-b52f-43ee-ac9b-ad0793824ce4"
      },
      "source": [
        "'runner'.replace('n', 'b')"
      ],
      "execution_count": 6,
      "outputs": [
        {
          "output_type": "execute_result",
          "data": {
            "application/vnd.google.colaboratory.intrinsic+json": {
              "type": "string"
            },
            "text/plain": [
              "'rubber'"
            ]
          },
          "metadata": {},
          "execution_count": 6
        }
      ]
    }
  ]
}