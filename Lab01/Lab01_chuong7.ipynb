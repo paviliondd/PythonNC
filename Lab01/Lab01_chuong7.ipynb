{
  "nbformat": 4,
  "nbformat_minor": 0,
  "metadata": {
    "colab": {
      "name": "Lab01_chuong7.ipynb",
      "provenance": [],
      "include_colab_link": true
    },
    "kernelspec": {
      "name": "python3",
      "display_name": "Python 3"
    },
    "language_info": {
      "name": "python"
    }
  },
  "cells": [
    {
      "cell_type": "markdown",
      "metadata": {
        "id": "view-in-github",
        "colab_type": "text"
      },
      "source": [
        "<a href=\"https://colab.research.google.com/github/paviliondd/PythoNC/blob/main/Lab01/Lab01_chuong7.ipynb\" target=\"_parent\"><img src=\"https://colab.research.google.com/assets/colab-badge.svg\" alt=\"Open In Colab\"/></a>"
      ]
    },
    {
      "cell_type": "markdown",
      "metadata": {
        "id": "DbX5sybyzyta"
      },
      "source": [
        "Cau 1:"
      ]
    },
    {
      "cell_type": "code",
      "metadata": {
        "colab": {
          "base_uri": "https://localhost:8080/"
        },
        "id": "Jx2IJ3JtzXtn",
        "outputId": "3694d401-d367-42d3-bc34-8e26d72d230c"
      },
      "source": [
        "#a\n",
        "print('hello'.upper())\n",
        "#b\n",
        "print('Happy Birthday!'.lower())\n",
        "#c\n",
        "print('WeeeEEEEeeeEEEEeee'.swapcase())\n",
        "#d\n",
        "print('ABC123'.isupper())\n",
        "#e\n",
        "print('aeiouAEIOU'.count('a'))\n",
        "#f\n",
        "print('hello'.endswith('o'))\n",
        "#g\n",
        "print('hello'.startswith('H'))\n",
        "#h\n",
        "print('Hello {0}'.format('Python'))\n",
        "#i\n",
        "print('Hello {0}! Hello {1}!'.format('Python', 'World'))"
      ],
      "execution_count": null,
      "outputs": [
        {
          "output_type": "stream",
          "name": "stdout",
          "text": [
            "HELLO\n",
            "happy birthday!\n",
            "wEEEeeeeEEEeeeeEEE\n",
            "True\n",
            "1\n",
            "True\n",
            "False\n",
            "Hello Python\n",
            "Hello Python! Hello World!\n"
          ]
        }
      ]
    },
    {
      "cell_type": "markdown",
      "metadata": {
        "id": "5XF1mdFq3-Ai"
      },
      "source": [
        "Cau2:"
      ]
    },
    {
      "cell_type": "code",
      "metadata": {
        "colab": {
          "base_uri": "https://localhost:8080/"
        },
        "id": "wFysiUJN4BJE",
        "outputId": "9936c9fb-a36d-49b5-9c51-3e4928fcb3ee"
      },
      "source": [
        "'tomato'.count('o')"
      ],
      "execution_count": null,
      "outputs": [
        {
          "output_type": "execute_result",
          "data": {
            "text/plain": [
              "2"
            ]
          },
          "metadata": {},
          "execution_count": 7
        }
      ]
    },
    {
      "cell_type": "markdown",
      "metadata": {
        "id": "OKTFvcTU4HS6"
      },
      "source": [
        "Cau 3"
      ]
    },
    {
      "cell_type": "code",
      "metadata": {
        "colab": {
          "base_uri": "https://localhost:8080/"
        },
        "id": "uPRDIgCn4Igc",
        "outputId": "b16d2613-dd77-4aaf-9e2d-fa342832f8a6"
      },
      "source": [
        "'tomato'.find('o')"
      ],
      "execution_count": null,
      "outputs": [
        {
          "output_type": "execute_result",
          "data": {
            "text/plain": [
              "1"
            ]
          },
          "metadata": {},
          "execution_count": 8
        }
      ]
    },
    {
      "cell_type": "markdown",
      "metadata": {
        "id": "AxX9gYAg4Qkp"
      },
      "source": [
        "Cau 4"
      ]
    },
    {
      "cell_type": "code",
      "metadata": {
        "id": "m_mDY0n34QM3"
      },
      "source": [
        "'tomato'.find('o', 'tomato'.find('o') + 1)"
      ],
      "execution_count": null,
      "outputs": []
    },
    {
      "cell_type": "markdown",
      "metadata": {
        "id": "RhmI1t6R4WjW"
      },
      "source": [
        "Cau 5\n"
      ]
    },
    {
      "cell_type": "code",
      "metadata": {
        "id": "O-oZcaHD4X4O"
      },
      "source": [
        "'avocado'.find('o', 'avocado'.find('o') + 1)"
      ],
      "execution_count": null,
      "outputs": []
    },
    {
      "cell_type": "markdown",
      "metadata": {
        "id": "vhAwRgfq4Z2C"
      },
      "source": [
        "Cau 6:"
      ]
    },
    {
      "cell_type": "code",
      "metadata": {
        "id": "VEgyp4sJ4bMj"
      },
      "source": [
        "'runner'.replace('n', 'b')"
      ],
      "execution_count": null,
      "outputs": []
    },
    {
      "cell_type": "markdown",
      "metadata": {
        "id": "NhCLv1rs4d1g"
      },
      "source": [
        "Cau 7"
      ]
    },
    {
      "cell_type": "code",
      "metadata": {
        "id": "uEe6d_YH4gGL"
      },
      "source": [
        "strip"
      ],
      "execution_count": null,
      "outputs": []
    },
    {
      "cell_type": "markdown",
      "metadata": {
        "id": "xNIIMgFn4qug"
      },
      "source": [
        "Cau 8"
      ]
    },
    {
      "cell_type": "code",
      "metadata": {
        "id": "pN0n77Md4pcz"
      },
      "source": [
        "#a. \n",
        "fruit.count('p')\n",
        "fruit.find('p', 3)\n",
        "#b. \n",
        "fruit.upper()\n",
        "'PINEAPPLE'.swapcase()\n",
        "fruit.count('pineapple')\n",
        "#c. \n",
        "fruit.swapcase()\n",
        "fruit.lower()\n",
        "fruit.replace('PINEAPPLE', 'pineapple')"
      ],
      "execution_count": null,
      "outputs": []
    },
    {
      "cell_type": "markdown",
      "metadata": {
        "id": "w7PbUVrA5IRf"
      },
      "source": [
        "Cau 9"
      ]
    },
    {
      "cell_type": "code",
      "metadata": {
        "id": "HYkhMjKf5KO3"
      },
      "source": [
        "'I love {0}!'.format(season)"
      ],
      "execution_count": null,
      "outputs": []
    },
    {
      "cell_type": "markdown",
      "metadata": {
        "id": "zhWrvI2D5OQS"
      },
      "source": [
        "Cau 10\n"
      ]
    },
    {
      "cell_type": "code",
      "metadata": {
        "id": "kKzsI50i5Pgk"
      },
      "source": [
        "'The sides have lengths {0}, {1}, and {2}.'.format(side1, side2, side3\n",
        "                                                   "
      ],
      "execution_count": null,
      "outputs": []
    },
    {
      "cell_type": "markdown",
      "metadata": {
        "id": "uirDcD8Z5Tvk"
      },
      "source": [
        "Cau 11\n"
      ]
    },
    {
      "cell_type": "code",
      "metadata": {
        "id": "thSGRh1s5V26"
      },
      "source": [
        "#a.\n",
        "'boolean'.capitalize()\n",
        "#b.\n",
        "'CO2 H2O'.find('2')\n",
        "#c.\n",
        "'CO2 H2O'.find('2', 'CO2 H2O'.find('2') + 1)\n",
        "#d.\n",
        "'Boolean'[0].islower()\n",
        "#e.\n",
        "\"MoNDaY\".lower().capitalize()\n",
        "#f.\n",
        "\" Monday\".lstrip()\n"
      ],
      "execution_count": null,
      "outputs": []
    }
  ]
}