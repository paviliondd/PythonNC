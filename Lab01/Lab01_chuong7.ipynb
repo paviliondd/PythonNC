{
  "nbformat": 4,
  "nbformat_minor": 0,
  "metadata": {
    "colab": {
      "name": "Lab01_chuong7.ipynb",
      "provenance": [],
      "include_colab_link": true
    },
    "kernelspec": {
      "name": "python3",
      "display_name": "Python 3"
    },
    "language_info": {
      "name": "python"
    }
  },
  "cells": [
    {
      "cell_type": "markdown",
      "metadata": {
        "id": "view-in-github",
        "colab_type": "text"
      },
      "source": [
        "<a href=\"https://colab.research.google.com/github/paviliondd/PythonNC/blob/main/Lab01/Lab01_chuong7.ipynb\" target=\"_parent\"><img src=\"https://colab.research.google.com/assets/colab-badge.svg\" alt=\"Open In Colab\"/></a>"
      ]
    },
    {
      "cell_type": "markdown",
      "metadata": {
        "id": "DbX5sybyzyta"
      },
      "source": [
        "Cau 1:"
      ]
    },
    {
      "cell_type": "code",
      "metadata": {
        "colab": {
          "base_uri": "https://localhost:8080/"
        },
        "id": "Jx2IJ3JtzXtn",
        "outputId": "03a703b3-7df3-42cc-87fb-664b23bb4f41"
      },
      "source": [
        "#a\n",
        "print('hello'.upper())\n",
        "#b\n",
        "print('Happy Birthday!'.lower())\n",
        "#c\n",
        "print('WeeeEEEEeeeEEEEeee'.swapcase())\n",
        "#d\n",
        "print('ABC123'.isupper())\n",
        "#e\n",
        "print('aeiouAEIOU'.count('a'))\n",
        "#f\n",
        "print('hello'.endswith('o'))\n",
        "#g\n",
        "print('hello'.startswith('H'))\n",
        "#h\n",
        "print('Hello {0}'.format('Python'))\n",
        "#i\n",
        "print('Hello {0}! Hello {1}!'.format('Python', 'World'))"
      ],
      "execution_count": 1,
      "outputs": [
        {
          "output_type": "stream",
          "name": "stdout",
          "text": [
            "HELLO\n",
            "happy birthday!\n",
            "wEEEeeeeEEEeeeeEEE\n",
            "True\n",
            "1\n",
            "True\n",
            "False\n",
            "Hello Python\n",
            "Hello Python! Hello World!\n"
          ]
        }
      ]
    },
    {
      "cell_type": "markdown",
      "metadata": {
        "id": "5XF1mdFq3-Ai"
      },
      "source": [
        "Cau2:"
      ]
    },
    {
      "cell_type": "code",
      "metadata": {
        "colab": {
          "base_uri": "https://localhost:8080/"
        },
        "id": "wFysiUJN4BJE",
        "outputId": "592e3712-7032-416e-f6a3-f0ff5b0df637"
      },
      "source": [
        "'tomato'.count('o')"
      ],
      "execution_count": 2,
      "outputs": [
        {
          "output_type": "execute_result",
          "data": {
            "text/plain": [
              "2"
            ]
          },
          "metadata": {},
          "execution_count": 2
        }
      ]
    },
    {
      "cell_type": "markdown",
      "metadata": {
        "id": "OKTFvcTU4HS6"
      },
      "source": [
        "Cau 3"
      ]
    },
    {
      "cell_type": "code",
      "metadata": {
        "colab": {
          "base_uri": "https://localhost:8080/"
        },
        "id": "uPRDIgCn4Igc",
        "outputId": "f18a72c3-37e9-4e98-e045-0f52287796b1"
      },
      "source": [
        "'tomato'.find('o')"
      ],
      "execution_count": 3,
      "outputs": [
        {
          "output_type": "execute_result",
          "data": {
            "text/plain": [
              "1"
            ]
          },
          "metadata": {},
          "execution_count": 3
        }
      ]
    },
    {
      "cell_type": "markdown",
      "metadata": {
        "id": "AxX9gYAg4Qkp"
      },
      "source": [
        "Cau 4"
      ]
    },
    {
      "cell_type": "code",
      "metadata": {
        "id": "m_mDY0n34QM3",
        "outputId": "d1fddd25-9753-4061-ccfc-80ffd36954b9",
        "colab": {
          "base_uri": "https://localhost:8080/"
        }
      },
      "source": [
        "'tomato'.find('o', 'tomato'.find('o') + 1)"
      ],
      "execution_count": 4,
      "outputs": [
        {
          "output_type": "execute_result",
          "data": {
            "text/plain": [
              "5"
            ]
          },
          "metadata": {},
          "execution_count": 4
        }
      ]
    },
    {
      "cell_type": "markdown",
      "metadata": {
        "id": "RhmI1t6R4WjW"
      },
      "source": [
        "Cau 5\n"
      ]
    },
    {
      "cell_type": "code",
      "metadata": {
        "id": "O-oZcaHD4X4O",
        "outputId": "c2183ea8-1056-4a50-d9aa-75d8b14b3bae",
        "colab": {
          "base_uri": "https://localhost:8080/"
        }
      },
      "source": [
        "'avocado'.find('o', 'avocado'.find('o') + 1)"
      ],
      "execution_count": 5,
      "outputs": [
        {
          "output_type": "execute_result",
          "data": {
            "text/plain": [
              "6"
            ]
          },
          "metadata": {},
          "execution_count": 5
        }
      ]
    },
    {
      "cell_type": "markdown",
      "metadata": {
        "id": "vhAwRgfq4Z2C"
      },
      "source": [
        "Cau 6:"
      ]
    },
    {
      "cell_type": "code",
      "metadata": {
        "id": "VEgyp4sJ4bMj",
        "outputId": "2491563e-1d2f-4349-b81f-4adeb30645a7",
        "colab": {
          "base_uri": "https://localhost:8080/",
          "height": 35
        }
      },
      "source": [
        "'runner'.replace('n', 'b')"
      ],
      "execution_count": 6,
      "outputs": [
        {
          "output_type": "execute_result",
          "data": {
            "application/vnd.google.colaboratory.intrinsic+json": {
              "type": "string"
            },
            "text/plain": [
              "'rubber'"
            ]
          },
          "metadata": {},
          "execution_count": 6
        }
      ]
    },
    {
      "cell_type": "markdown",
      "metadata": {
        "id": "NhCLv1rs4d1g"
      },
      "source": [
        "Cau 7"
      ]
    },
    {
      "cell_type": "code",
      "metadata": {
        "id": "uEe6d_YH4gGL",
        "outputId": "fc3de792-52f3-48df-a135-9ed814a34849",
        "colab": {
          "base_uri": "https://localhost:8080/",
          "height": 162
        }
      },
      "source": [
        "strip"
      ],
      "execution_count": 7,
      "outputs": [
        {
          "output_type": "error",
          "ename": "NameError",
          "evalue": "ignored",
          "traceback": [
            "\u001b[0;31m---------------------------------------------------------------------------\u001b[0m",
            "\u001b[0;31mNameError\u001b[0m                                 Traceback (most recent call last)",
            "\u001b[0;32m<ipython-input-7-865d6e1ab2d8>\u001b[0m in \u001b[0;36m<module>\u001b[0;34m()\u001b[0m\n\u001b[0;32m----> 1\u001b[0;31m \u001b[0mstrip\u001b[0m\u001b[0;34m\u001b[0m\u001b[0;34m\u001b[0m\u001b[0m\n\u001b[0m",
            "\u001b[0;31mNameError\u001b[0m: name 'strip' is not defined"
          ]
        }
      ]
    },
    {
      "cell_type": "markdown",
      "metadata": {
        "id": "xNIIMgFn4qug"
      },
      "source": [
        "Cau 8"
      ]
    },
    {
      "cell_type": "code",
      "metadata": {
        "id": "pN0n77Md4pcz"
      },
      "source": [
        "#a. \n",
        "fruit.count('p')\n",
        "fruit.find('p', 3)\n",
        "#b. \n",
        "fruit.upper()\n",
        "'PINEAPPLE'.swapcase()\n",
        "fruit.count('pineapple')\n",
        "#c. \n",
        "fruit.swapcase()\n",
        "fruit.lower()\n",
        "fruit.replace('PINEAPPLE', 'pineapple')"
      ],
      "execution_count": null,
      "outputs": []
    },
    {
      "cell_type": "markdown",
      "metadata": {
        "id": "w7PbUVrA5IRf"
      },
      "source": [
        "Cau 9"
      ]
    },
    {
      "cell_type": "code",
      "metadata": {
        "id": "HYkhMjKf5KO3"
      },
      "source": [
        "'I love {0}!'.format(season)"
      ],
      "execution_count": null,
      "outputs": []
    },
    {
      "cell_type": "markdown",
      "metadata": {
        "id": "zhWrvI2D5OQS"
      },
      "source": [
        "Cau 10\n"
      ]
    },
    {
      "cell_type": "code",
      "metadata": {
        "id": "kKzsI50i5Pgk"
      },
      "source": [
        "'The sides have lengths {0}, {1}, and {2}.'.format(side1, side2, side3\n",
        "                                                   "
      ],
      "execution_count": null,
      "outputs": []
    },
    {
      "cell_type": "markdown",
      "metadata": {
        "id": "uirDcD8Z5Tvk"
      },
      "source": [
        "Cau 11\n"
      ]
    },
    {
      "cell_type": "code",
      "metadata": {
        "id": "thSGRh1s5V26"
      },
      "source": [
        "#a.\n",
        "'boolean'.capitalize()\n",
        "#b.\n",
        "'CO2 H2O'.find('2')\n",
        "#c.\n",
        "'CO2 H2O'.find('2', 'CO2 H2O'.find('2') + 1)\n",
        "#d.\n",
        "'Boolean'[0].islower()\n",
        "#e.\n",
        "\"MoNDaY\".lower().capitalize()\n",
        "#f.\n",
        "\" Monday\".lstrip()\n"
      ],
      "execution_count": null,
      "outputs": []
    }
  ]
}