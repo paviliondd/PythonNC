{
  "nbformat": 4,
  "nbformat_minor": 0,
  "metadata": {
    "colab": {
      "name": "Lab02_Chuong8.ipynb",
      "provenance": [],
      "authorship_tag": "ABX9TyPKPrIrBppsKtSmd7PQMTgi",
      "include_colab_link": true
    },
    "kernelspec": {
      "name": "python3",
      "display_name": "Python 3"
    },
    "language_info": {
      "name": "python"
    }
  },
  "cells": [
    {
      "cell_type": "markdown",
      "metadata": {
        "id": "view-in-github",
        "colab_type": "text"
      },
      "source": [
        "<a href=\"https://colab.research.google.com/github/paviliondd/PythonNC/blob/main/Lab02/Lab02_Chuong8.ipynb\" target=\"_parent\"><img src=\"https://colab.research.google.com/assets/colab-badge.svg\" alt=\"Open In Colab\"/></a>"
      ]
    },
    {
      "cell_type": "markdown",
      "metadata": {
        "id": "M09p7OvDXZfZ"
      },
      "source": [
        "Cau1"
      ]
    },
    {
      "cell_type": "code",
      "metadata": {
        "colab": {
          "base_uri": "https://localhost:8080/"
        },
        "id": "ICewXQJEVG-9",
        "outputId": "941d6674-f0fd-450a-ee4b-3be95520e71a"
      },
      "source": [
        "kingdoms =  ['Bacteria', 'Protozoa', 'Chromista', 'Plantae', 'Fungi','Animalia']\n",
        "print(kingdoms[0])\n",
        "print(kingdoms[5])\n",
        "print(kingdoms[:3])\n",
        "print(kingdoms[2:5])\n",
        "print(kingdoms[4:])\n",
        "print(kingdoms[1:0])\n"
      ],
      "execution_count": 1,
      "outputs": [
        {
          "output_type": "stream",
          "name": "stdout",
          "text": [
            "Bacteria\n",
            "Animalia\n",
            "['Bacteria', 'Protozoa', 'Chromista']\n",
            "['Chromista', 'Plantae', 'Fungi']\n",
            "['Fungi', 'Animalia']\n",
            "[]\n"
          ]
        }
      ]
    },
    {
      "cell_type": "markdown",
      "metadata": {
        "id": "5ZFvfi7tXbya"
      },
      "source": [
        "Cau 2"
      ]
    },
    {
      "cell_type": "code",
      "metadata": {
        "colab": {
          "base_uri": "https://localhost:8080/"
        },
        "id": "kbcvf8TMYSN8",
        "outputId": "ceb00863-baa8-4336-b067-5b88ae217a61"
      },
      "source": [
        "print(kingdoms[-6])\n",
        "print(kingdoms[-1])\n",
        "print(kingdoms[-6:-3])\n",
        "print(kingdoms[-4:-1])\n",
        "print(kingdoms[-2:])\n",
        "print(kingdoms[-1:-2])\n"
      ],
      "execution_count": 2,
      "outputs": [
        {
          "output_type": "stream",
          "name": "stdout",
          "text": [
            "Bacteria\n",
            "Animalia\n",
            "['Bacteria', 'Protozoa', 'Chromista']\n",
            "['Chromista', 'Plantae', 'Fungi']\n",
            "['Fungi', 'Animalia']\n",
            "[]\n"
          ]
        }
      ]
    }
  ]
}