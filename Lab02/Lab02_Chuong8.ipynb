{
  "nbformat": 4,
  "nbformat_minor": 0,
  "metadata": {
    "colab": {
      "name": "Lab02_Chuong8.ipynb",
      "provenance": [],
      "authorship_tag": "ABX9TyN+4XlSbu4n1ui3VlHfJAZ9",
      "include_colab_link": true
    },
    "kernelspec": {
      "name": "python3",
      "display_name": "Python 3"
    },
    "language_info": {
      "name": "python"
    }
  },
  "cells": [
    {
      "cell_type": "markdown",
      "metadata": {
        "id": "view-in-github",
        "colab_type": "text"
      },
      "source": [
        "<a href=\"https://colab.research.google.com/github/paviliondd/PythonNC/blob/main/Lab02/Lab02_Chuong8.ipynb\" target=\"_parent\"><img src=\"https://colab.research.google.com/assets/colab-badge.svg\" alt=\"Open In Colab\"/></a>"
      ]
    },
    {
      "cell_type": "markdown",
      "metadata": {
        "id": "M09p7OvDXZfZ"
      },
      "source": [
        "Cau1"
      ]
    },
    {
      "cell_type": "code",
      "metadata": {
        "colab": {
          "base_uri": "https://localhost:8080/"
        },
        "id": "ICewXQJEVG-9",
        "outputId": "69d32a7d-e72d-4a22-9727-94a5dbb3cba1"
      },
      "source": [
        "kingdoms =  ['Bacteria', 'Protozoa', 'Chromista', 'Plantae', 'Fungi','Animalia']\n",
        "print(kingdoms[0])\n",
        "print(kingdoms[5])\n",
        "print(kingdoms[:3])\n",
        "print(kingdoms[2:5])\n",
        "print(kingdoms[4:])\n",
        "print(kingdoms[1:0])\n"
      ],
      "execution_count": 6,
      "outputs": [
        {
          "output_type": "stream",
          "name": "stdout",
          "text": [
            "Bacteria\n",
            "Animalia\n",
            "['Bacteria', 'Protozoa', 'Chromista']\n",
            "['Chromista', 'Plantae', 'Fungi']\n",
            "['Fungi', 'Animalia']\n",
            "[]\n"
          ]
        }
      ]
    },
    {
      "cell_type": "markdown",
      "metadata": {
        "id": "5ZFvfi7tXbya"
      },
      "source": [
        "Cau 2"
      ]
    },
    {
      "cell_type": "code",
      "metadata": {
        "colab": {
          "base_uri": "https://localhost:8080/"
        },
        "id": "kbcvf8TMYSN8",
        "outputId": "1a63c96f-9178-4d12-ab04-0edbcd9c6cab"
      },
      "source": [
        "print(kingdoms[-6])\n",
        "print(kingdoms[-1])\n",
        "print(kingdoms[-6:-3])\n",
        "print(kingdoms[-4:-1])\n",
        "print(kingdoms[-2:])\n",
        "print(kingdoms[-1:-2])\n"
      ],
      "execution_count": 7,
      "outputs": [
        {
          "output_type": "stream",
          "name": "stdout",
          "text": [
            "Bacteria\n",
            "Animalia\n",
            "['Bacteria', 'Protozoa', 'Chromista']\n",
            "['Chromista', 'Plantae', 'Fungi']\n",
            "['Fungi', 'Animalia']\n",
            "[]\n"
          ]
        }
      ]
    },
    {
      "cell_type": "markdown",
      "metadata": {
        "id": "3dFsFU6YaBPc"
      },
      "source": [
        "Cau 3"
      ]
    },
    {
      "cell_type": "code",
      "metadata": {
        "colab": {
          "base_uri": "https://localhost:8080/"
        },
        "id": "eHQsAlJWaA6d",
        "outputId": "4b2479b2-d699-4bd2-c874-84d8084fa434"
      },
      "source": [
        "appointments = ['9:00', '10:30', '14:00', '15:00', '15:30']\n",
        "appointments.append('16:30')\n",
        "appointments"
      ],
      "execution_count": 8,
      "outputs": [
        {
          "output_type": "execute_result",
          "data": {
            "text/plain": [
              "['9:00', '10:30', '14:00', '15:00', '15:30', '16:30']"
            ]
          },
          "metadata": {},
          "execution_count": 8
        }
      ]
    },
    {
      "cell_type": "markdown",
      "metadata": {
        "id": "dD8WGHa-bhY4"
      },
      "source": [
        "Cau 4 \n"
      ]
    },
    {
      "cell_type": "code",
      "metadata": {
        "colab": {
          "base_uri": "https://localhost:8080/"
        },
        "id": "OEDW9YBJbjRN",
        "outputId": "d7056022-915f-4f65-8012-ba85314cfaa1"
      },
      "source": [
        "ids = [4353, 2314, 2956, 3382, 9362, 3900]\n",
        "ids.remove(3382)\n",
        "print(ids)\n",
        "ids.index(9362)\n",
        "print(ids)\n",
        "ids.insert(ids.index(9362)+1,4499)\n",
        "print(ids)\n",
        "ids=ids+[5566, 1830]\n",
        "print(ids)\n",
        "ids.reverse()\n",
        "print(ids)\n",
        "ids.sort()\n",
        "print(ids)"
      ],
      "execution_count": 9,
      "outputs": [
        {
          "output_type": "stream",
          "name": "stdout",
          "text": [
            "[4353, 2314, 2956, 9362, 3900]\n",
            "[4353, 2314, 2956, 9362, 3900]\n",
            "[4353, 2314, 2956, 9362, 4499, 3900]\n",
            "[4353, 2314, 2956, 9362, 4499, 3900, 5566, 1830]\n",
            "[1830, 5566, 3900, 4499, 9362, 2956, 2314, 4353]\n",
            "[1830, 2314, 2956, 3900, 4353, 4499, 5566, 9362]\n"
          ]
        }
      ]
    },
    {
      "cell_type": "markdown",
      "metadata": {
        "id": "VCJ9lSz0emp1"
      },
      "source": [
        "Cau5"
      ]
    },
    {
      "cell_type": "code",
      "metadata": {
        "id": "WiXOd9nieoEx",
        "outputId": "b7ba2c59-2fe2-4877-8482-36e40e8fd80c",
        "colab": {
          "base_uri": "https://localhost:8080/"
        }
      },
      "source": [
        "alkaline_earth_metals = ['metals—beryllium','magnesium', ' calcium',' strontium','barium','radium']\n",
        "alkaline_earth_metals = [4, 12, 20, 38, 56, 88]\n",
        "print(alkaline_earth_metals[5], alkaline_earth_metals[-1])\n",
        "print(len(alkaline_earth_metals))\n",
        "print(max(alkaline_earth_metals))\n"
      ],
      "execution_count": 10,
      "outputs": [
        {
          "output_type": "stream",
          "name": "stdout",
          "text": [
            "88 88\n",
            "6\n",
            "88\n"
          ]
        }
      ]
    },
    {
      "cell_type": "markdown",
      "metadata": {
        "id": "wSsYli4a4lJs"
      },
      "source": [
        "Cau 6:\n"
      ]
    },
    {
      "cell_type": "code",
      "metadata": {
        "id": "XBFxFTS34niz",
        "outputId": "c399a976-d1ca-447a-edea-ee6aeeaa938e",
        "colab": {
          "base_uri": "https://localhost:8080/"
        }
      },
      "source": [
        "temps = [25.2, 16.8, 31.4, 23.9, 28, 22.5, 19.6]\n",
        "print(temps)\n",
        "temps.sort()\n",
        "print(temps)\n",
        "cool_temps = temps[0:2]\n",
        "print(cool_temps)\n",
        "warm_temps = temps[2:]\n",
        "print(warm_temps)\n",
        "temps_in_celsius = cool_temps + warm_temps\n",
        "print(temps_in_celsius)"
      ],
      "execution_count": 11,
      "outputs": [
        {
          "output_type": "stream",
          "name": "stdout",
          "text": [
            "[25.2, 16.8, 31.4, 23.9, 28, 22.5, 19.6]\n",
            "[16.8, 19.6, 22.5, 23.9, 25.2, 28, 31.4]\n",
            "[16.8, 19.6]\n",
            "[22.5, 23.9, 25.2, 28, 31.4]\n",
            "[16.8, 19.6, 22.5, 23.9, 25.2, 28, 31.4]\n"
          ]
        }
      ]
    },
    {
      "cell_type": "markdown",
      "metadata": {
        "id": "dxieb9El4z47"
      },
      "source": [
        "Cau 7:\n"
      ]
    },
    {
      "cell_type": "code",
      "metadata": {
        "id": "ZY2sTZy_41Rf",
        "outputId": "d8c9cadb-2508-46e8-bc3b-970927855772",
        "colab": {
          "base_uri": "https://localhost:8080/"
        }
      },
      "source": [
        "def same_first_last(L : list ) -> bool:\n",
        "  if len(L) >= 2 and L[0] == L[-1]:\n",
        "    print(True)\n",
        "  else:\n",
        "    print(False)\n",
        "\n",
        "same_first_last([3, 4, 2, 8, 3])\n",
        "same_first_last(['apple', 'banana', 'pear'])\n",
        "same_first_last([4.0, 4.5])\n"
      ],
      "execution_count": 12,
      "outputs": [
        {
          "output_type": "stream",
          "name": "stdout",
          "text": [
            "True\n",
            "False\n",
            "False\n"
          ]
        }
      ]
    },
    {
      "cell_type": "markdown",
      "metadata": {
        "id": "okF3jn5T43zo"
      },
      "source": [
        "Cau 8"
      ]
    },
    {
      "cell_type": "code",
      "metadata": {
        "id": "aBxFzFy_43ZW",
        "outputId": "271a0d81-7803-4f4b-b7f6-3453a37b6b54",
        "colab": {
          "base_uri": "https://localhost:8080/"
        }
      },
      "source": [
        "def is_longer(L1: list, L2: list) -> bool:\n",
        "  if len(L1) > len(L2):\n",
        "    print(True)\n",
        "  else:\n",
        "    print(False)\n",
        "is_longer([1, 2, 3], [4, 5])\n",
        "is_longer(['abcdef'], ['ab', 'cd', 'ef'])\n",
        "is_longer(['a', 'b', 'c'], [1, 2, 3])"
      ],
      "execution_count": 13,
      "outputs": [
        {
          "output_type": "stream",
          "name": "stdout",
          "text": [
            "True\n",
            "False\n",
            "False\n"
          ]
        }
      ]
    },
    {
      "cell_type": "markdown",
      "metadata": {
        "id": "nih554pu48Jb"
      },
      "source": [
        "Cau 9:"
      ]
    },
    {
      "cell_type": "code",
      "metadata": {
        "id": "9ovObndW4-r6"
      },
      "source": [
        "values = [0, 1, 2]\n",
        "values[1] = values"
      ],
      "execution_count": 14,
      "outputs": []
    },
    {
      "cell_type": "markdown",
      "metadata": {
        "id": "ysQWpZsS5AS6"
      },
      "source": [
        "Cau10:\n"
      ]
    },
    {
      "cell_type": "code",
      "metadata": {
        "id": "tW4y8twy5CDh",
        "outputId": "64d18a18-f112-478d-b1ff-f131f6f21a8d",
        "colab": {
          "base_uri": "https://localhost:8080/"
        }
      },
      "source": [
        "units =[['km', 'miles', 'league'],['kg', 'pound', 'stone']]\n",
        "print(units[0])\n",
        "print(units[-1] or units[1])\n",
        "print(units[0][0])\n",
        "print(units[1][0])\n",
        "print(units[0][1:])\n",
        "print(units[1][0:2])"
      ],
      "execution_count": 15,
      "outputs": [
        {
          "output_type": "stream",
          "name": "stdout",
          "text": [
            "['km', 'miles', 'league']\n",
            "['kg', 'pound', 'stone']\n",
            "km\n",
            "kg\n",
            "['miles', 'league']\n",
            "['kg', 'pound']\n"
          ]
        }
      ]
    },
    {
      "cell_type": "markdown",
      "metadata": {
        "id": "BtQwhtzb5IUs"
      },
      "source": [
        "Cau 11:\n"
      ]
    },
    {
      "cell_type": "code",
      "metadata": {
        "id": "aUNc34sp5J5i",
        "outputId": "9cc29d6f-91b3-45f7-e16a-b04552ebcc25",
        "colab": {
          "base_uri": "https://localhost:8080/"
        }
      },
      "source": [
        "units =[['km', 'miles', 'league'],['kg', 'pound', 'stone']]\n",
        "print(units[-2])\n",
        "print(units[-1])\n",
        "print(units[-2][-3])\n",
        "print(units[-1][-3])\n",
        "print(units[-2][-2:])\n",
        "print(units[-1][:-1])"
      ],
      "execution_count": 16,
      "outputs": [
        {
          "output_type": "stream",
          "name": "stdout",
          "text": [
            "['km', 'miles', 'league']\n",
            "['kg', 'pound', 'stone']\n",
            "km\n",
            "kg\n",
            "['miles', 'league']\n",
            "['kg', 'pound']\n"
          ]
        }
      ]
    }
  ]
}