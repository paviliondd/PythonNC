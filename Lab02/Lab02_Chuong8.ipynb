{
  "nbformat": 4,
  "nbformat_minor": 0,
  "metadata": {
    "colab": {
      "name": "Lab02_Chuong8.ipynb",
      "provenance": [],
      "authorship_tag": "ABX9TyNrmO5LUFD1aFDZTexDwilH",
      "include_colab_link": true
    },
    "kernelspec": {
      "name": "python3",
      "display_name": "Python 3"
    },
    "language_info": {
      "name": "python"
    }
  },
  "cells": [
    {
      "cell_type": "markdown",
      "metadata": {
        "id": "view-in-github",
        "colab_type": "text"
      },
      "source": [
        "<a href=\"https://colab.research.google.com/github/paviliondd/PythonNC/blob/main/Lab02/Lab02_Chuong8.ipynb\" target=\"_parent\"><img src=\"https://colab.research.google.com/assets/colab-badge.svg\" alt=\"Open In Colab\"/></a>"
      ]
    },
    {
      "cell_type": "markdown",
      "metadata": {
        "id": "M09p7OvDXZfZ"
      },
      "source": [
        "Cau1"
      ]
    },
    {
      "cell_type": "code",
      "metadata": {
        "colab": {
          "base_uri": "https://localhost:8080/"
        },
        "id": "ICewXQJEVG-9",
        "outputId": "941d6674-f0fd-450a-ee4b-3be95520e71a"
      },
      "source": [
        "kingdoms =  ['Bacteria', 'Protozoa', 'Chromista', 'Plantae', 'Fungi','Animalia']\n",
        "print(kingdoms[0])\n",
        "print(kingdoms[5])\n",
        "print(kingdoms[:3])\n",
        "print(kingdoms[2:5])\n",
        "print(kingdoms[4:])\n",
        "print(kingdoms[1:0])\n"
      ],
      "execution_count": 1,
      "outputs": [
        {
          "output_type": "stream",
          "name": "stdout",
          "text": [
            "Bacteria\n",
            "Animalia\n",
            "['Bacteria', 'Protozoa', 'Chromista']\n",
            "['Chromista', 'Plantae', 'Fungi']\n",
            "['Fungi', 'Animalia']\n",
            "[]\n"
          ]
        }
      ]
    },
    {
      "cell_type": "markdown",
      "metadata": {
        "id": "5ZFvfi7tXbya"
      },
      "source": [
        "Cau 2"
      ]
    },
    {
      "cell_type": "code",
      "metadata": {
        "colab": {
          "base_uri": "https://localhost:8080/"
        },
        "id": "kbcvf8TMYSN8",
        "outputId": "ceb00863-baa8-4336-b067-5b88ae217a61"
      },
      "source": [
        "print(kingdoms[-6])\n",
        "print(kingdoms[-1])\n",
        "print(kingdoms[-6:-3])\n",
        "print(kingdoms[-4:-1])\n",
        "print(kingdoms[-2:])\n",
        "print(kingdoms[-1:-2])\n"
      ],
      "execution_count": 2,
      "outputs": [
        {
          "output_type": "stream",
          "name": "stdout",
          "text": [
            "Bacteria\n",
            "Animalia\n",
            "['Bacteria', 'Protozoa', 'Chromista']\n",
            "['Chromista', 'Plantae', 'Fungi']\n",
            "['Fungi', 'Animalia']\n",
            "[]\n"
          ]
        }
      ]
    },
    {
      "cell_type": "markdown",
      "metadata": {
        "id": "3dFsFU6YaBPc"
      },
      "source": [
        "Cau 3"
      ]
    },
    {
      "cell_type": "code",
      "metadata": {
        "colab": {
          "base_uri": "https://localhost:8080/"
        },
        "id": "eHQsAlJWaA6d",
        "outputId": "963329e9-1b46-438f-9e6c-b4fb5b9c50e4"
      },
      "source": [
        "appointments = ['9:00', '10:30', '14:00', '15:00', '15:30']\n",
        "appointments.append('16:30')\n",
        "appointments"
      ],
      "execution_count": 3,
      "outputs": [
        {
          "output_type": "execute_result",
          "data": {
            "text/plain": [
              "['9:00', '10:30', '14:00', '15:00', '15:30', '16:30']"
            ]
          },
          "metadata": {},
          "execution_count": 3
        }
      ]
    },
    {
      "cell_type": "markdown",
      "metadata": {
        "id": "dD8WGHa-bhY4"
      },
      "source": [
        "Cau 4 \n"
      ]
    },
    {
      "cell_type": "code",
      "metadata": {
        "colab": {
          "base_uri": "https://localhost:8080/"
        },
        "id": "OEDW9YBJbjRN",
        "outputId": "3fc765f7-b31e-4570-d510-7ed05fa8c1c5"
      },
      "source": [
        "ids = [4353, 2314, 2956, 3382, 9362, 3900]\n",
        "ids.remove(3382)\n",
        "print(ids)\n",
        "ids.index(9362)\n",
        "print(ids)\n",
        "ids.insert(ids.index(9362)+1,4499)\n",
        "print(ids)\n",
        "ids=ids+[5566, 1830]\n",
        "print(ids)\n",
        "ids.reverse()\n",
        "print(ids)\n",
        "ids.sort()\n",
        "print(ids)"
      ],
      "execution_count": 16,
      "outputs": [
        {
          "output_type": "stream",
          "name": "stdout",
          "text": [
            "[4353, 2314, 2956, 9362, 3900]\n",
            "[4353, 2314, 2956, 9362, 3900]\n",
            "[4353, 2314, 2956, 9362, 4499, 3900]\n",
            "[4353, 2314, 2956, 9362, 4499, 3900, 5566, 1830]\n",
            "[1830, 5566, 3900, 4499, 9362, 2956, 2314, 4353]\n",
            "[1830, 2314, 2956, 3900, 4353, 4499, 5566, 9362]\n"
          ]
        }
      ]
    },
    {
      "cell_type": "markdown",
      "metadata": {
        "id": "VCJ9lSz0emp1"
      },
      "source": [
        "Cau5"
      ]
    },
    {
      "cell_type": "code",
      "metadata": {
        "id": "WiXOd9nieoEx"
      },
      "source": [
        "alkaline_earth_metals = [beryllium (4), magnesium (12), calcium (20), strontium (38),barium (56), and radium (88)]\n"
      ],
      "execution_count": null,
      "outputs": []
    }
  ]
}