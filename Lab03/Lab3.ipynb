{
  "nbformat": 4,
  "nbformat_minor": 0,
  "metadata": {
    "colab": {
      "name": "Lab3.ipynb",
      "provenance": [],
      "toc_visible": true,
      "authorship_tag": "ABX9TyPR8p8rGA6mbDL0rzWq57lK",
      "include_colab_link": true
    },
    "kernelspec": {
      "name": "python3",
      "display_name": "Python 3"
    },
    "language_info": {
      "name": "python"
    }
  },
  "cells": [
    {
      "cell_type": "markdown",
      "metadata": {
        "id": "view-in-github",
        "colab_type": "text"
      },
      "source": [
        "<a href=\"https://colab.research.google.com/github/paviliondd/PythonNC/blob/main/Lab03/Lab3.ipynb\" target=\"_parent\"><img src=\"https://colab.research.google.com/assets/colab-badge.svg\" alt=\"Open In Colab\"/></a>"
      ]
    },
    {
      "cell_type": "markdown",
      "metadata": {
        "id": "MuDFzv0kr5wX"
      },
      "source": [
        "Bai 1:"
      ]
    },
    {
      "cell_type": "code",
      "metadata": {
        "colab": {
          "base_uri": "https://localhost:8080/",
          "height": 257
        },
        "id": "I49-Ja1fr2o4",
        "outputId": "9ce35f22-3973-486e-b4de-3e71b04df43a"
      },
      "source": [
        "filename = input('Which file would you like to back-up? ')\n",
        "new_filename = filename + '.bak'\n",
        "backup = open(new_filename, 'w')\n",
        "\n",
        "for line in open(filename):\n",
        " backup.write(line)\n",
        " \n",
        "backup.close()"
      ],
      "execution_count": 2,
      "outputs": [
        {
          "name": "stdout",
          "output_type": "stream",
          "text": [
            "Which file would you like to back-up? PhiLong\n"
          ]
        },
        {
          "output_type": "error",
          "ename": "FileNotFoundError",
          "evalue": "ignored",
          "traceback": [
            "\u001b[0;31m---------------------------------------------------------------------------\u001b[0m",
            "\u001b[0;31mFileNotFoundError\u001b[0m                         Traceback (most recent call last)",
            "\u001b[0;32m<ipython-input-2-f295a76cea51>\u001b[0m in \u001b[0;36m<module>\u001b[0;34m()\u001b[0m\n\u001b[1;32m      3\u001b[0m \u001b[0mbackup\u001b[0m \u001b[0;34m=\u001b[0m \u001b[0mopen\u001b[0m\u001b[0;34m(\u001b[0m\u001b[0mnew_filename\u001b[0m\u001b[0;34m,\u001b[0m \u001b[0;34m'w'\u001b[0m\u001b[0;34m)\u001b[0m\u001b[0;34m\u001b[0m\u001b[0;34m\u001b[0m\u001b[0m\n\u001b[1;32m      4\u001b[0m \u001b[0;34m\u001b[0m\u001b[0m\n\u001b[0;32m----> 5\u001b[0;31m \u001b[0;32mfor\u001b[0m \u001b[0mline\u001b[0m \u001b[0;32min\u001b[0m \u001b[0mopen\u001b[0m\u001b[0;34m(\u001b[0m\u001b[0mfilename\u001b[0m\u001b[0;34m)\u001b[0m\u001b[0;34m:\u001b[0m\u001b[0;34m\u001b[0m\u001b[0;34m\u001b[0m\u001b[0m\n\u001b[0m\u001b[1;32m      6\u001b[0m  \u001b[0mbackup\u001b[0m\u001b[0;34m.\u001b[0m\u001b[0mwrite\u001b[0m\u001b[0;34m(\u001b[0m\u001b[0mline\u001b[0m\u001b[0;34m)\u001b[0m\u001b[0;34m\u001b[0m\u001b[0;34m\u001b[0m\u001b[0m\n\u001b[1;32m      7\u001b[0m \u001b[0;34m\u001b[0m\u001b[0m\n",
            "\u001b[0;31mFileNotFoundError\u001b[0m: [Errno 2] No such file or directory: 'PhiLong'"
          ]
        }
      ]
    },
    {
      "cell_type": "markdown",
      "metadata": {
        "id": "aK0sgnmcsDgk"
      },
      "source": [
        "Bai 2"
      ]
    },
    {
      "cell_type": "code",
      "metadata": {
        "colab": {
          "base_uri": "https://localhost:8080/",
          "height": 221
        },
        "id": "Gw8HM-XBsET8",
        "outputId": "5c772168-394c-41f6-f55e-5679ff1a5fd3"
      },
      "source": [
        "alkaline_metals = []\n",
        "for line in open('alkaline_metals.txt'):\n",
        " alkaline_metals.append(line.strip().split(' '))\n",
        "print(alkaline_metals)"
      ],
      "execution_count": 3,
      "outputs": [
        {
          "output_type": "error",
          "ename": "FileNotFoundError",
          "evalue": "ignored",
          "traceback": [
            "\u001b[0;31m---------------------------------------------------------------------------\u001b[0m",
            "\u001b[0;31mFileNotFoundError\u001b[0m                         Traceback (most recent call last)",
            "\u001b[0;32m<ipython-input-3-3d9b310ce604>\u001b[0m in \u001b[0;36m<module>\u001b[0;34m()\u001b[0m\n\u001b[1;32m      1\u001b[0m \u001b[0malkaline_metals\u001b[0m \u001b[0;34m=\u001b[0m \u001b[0;34m[\u001b[0m\u001b[0;34m]\u001b[0m\u001b[0;34m\u001b[0m\u001b[0;34m\u001b[0m\u001b[0m\n\u001b[0;32m----> 2\u001b[0;31m \u001b[0;32mfor\u001b[0m \u001b[0mline\u001b[0m \u001b[0;32min\u001b[0m \u001b[0mopen\u001b[0m\u001b[0;34m(\u001b[0m\u001b[0;34m'alkaline_metals.txt'\u001b[0m\u001b[0;34m)\u001b[0m\u001b[0;34m:\u001b[0m\u001b[0;34m\u001b[0m\u001b[0;34m\u001b[0m\u001b[0m\n\u001b[0m\u001b[1;32m      3\u001b[0m  \u001b[0malkaline_metals\u001b[0m\u001b[0;34m.\u001b[0m\u001b[0mappend\u001b[0m\u001b[0;34m(\u001b[0m\u001b[0mline\u001b[0m\u001b[0;34m.\u001b[0m\u001b[0mstrip\u001b[0m\u001b[0;34m(\u001b[0m\u001b[0;34m)\u001b[0m\u001b[0;34m.\u001b[0m\u001b[0msplit\u001b[0m\u001b[0;34m(\u001b[0m\u001b[0;34m' '\u001b[0m\u001b[0;34m)\u001b[0m\u001b[0;34m)\u001b[0m\u001b[0;34m\u001b[0m\u001b[0;34m\u001b[0m\u001b[0m\n\u001b[1;32m      4\u001b[0m \u001b[0mprint\u001b[0m\u001b[0;34m(\u001b[0m\u001b[0malkaline_metals\u001b[0m\u001b[0;34m)\u001b[0m\u001b[0;34m\u001b[0m\u001b[0;34m\u001b[0m\u001b[0m\n",
            "\u001b[0;31mFileNotFoundError\u001b[0m: [Errno 2] No such file or directory: 'alkaline_metals.txt'"
          ]
        }
      ]
    },
    {
      "cell_type": "markdown",
      "metadata": {
        "id": "JW8KRnU7sHOU"
      },
      "source": [
        "Bai 3"
      ]
    },
    {
      "cell_type": "code",
      "metadata": {
        "colab": {
          "base_uri": "https://localhost:8080/"
        },
        "id": "QMz4vB7hsIN1",
        "outputId": "976b0b4e-190a-44cd-b885-85552b09ae41"
      },
      "source": [
        "content = []\n",
        "for line in open('PhiLong.txt'):\n",
        "    content.append(line)\n",
        "print('Doc nguoc file :\\n ',)\n",
        "for line in reversed(content):\n",
        "    print(line)"
      ],
      "execution_count": 4,
      "outputs": [
        {
          "output_type": "stream",
          "name": "stdout",
          "text": [
            "Doc nguoc file :\n",
            " \n",
            "CNTT\n",
            "21\n",
            "\n",
            "Ho Chi Minh\n",
            "\n",
            "Tran Phi Long\n",
            "\n"
          ]
        }
      ]
    },
    {
      "cell_type": "markdown",
      "metadata": {
        "id": "MuZpc_JjsKJ2"
      },
      "source": [
        "Bai 4"
      ]
    },
    {
      "cell_type": "code",
      "metadata": {
        "colab": {
          "base_uri": "https://localhost:8080/"
        },
        "id": "Pc7Wq-yvsf9Z",
        "outputId": "cc85adca-7998-40bf-a4ea-ec7139d4d868"
      },
      "source": [
        "def skip_header(reader):\n",
        "    \n",
        "    # Read the description line and then the comment lines.\n",
        "    line = reader.readline()    \n",
        "    line = reader.readline()\n",
        "    while line.startswith('#'):\n",
        "        line = reader.readline() \n",
        "    # Now line contains the first real piece of data.\n",
        "    return line\n",
        "\n",
        "def process_file(reader):\n",
        "    # Find the first piece of data.\n",
        "    line = skip_header(reader).strip()\n",
        "    print(line)\n",
        "    # Read the rest of the data.\n",
        "    for line in reader:\n",
        "        line = line.strip()\n",
        "        print(line)\n",
        "\n",
        "input_file = open('PhiLong.txt', 'r')\n",
        "process_file(input_file)\n",
        "input_file.close()"
      ],
      "execution_count": 5,
      "outputs": [
        {
          "output_type": "stream",
          "name": "stdout",
          "text": [
            "Ho Chi Minh\n",
            "21\n",
            "CNTT\n"
          ]
        }
      ]
    },
    {
      "cell_type": "markdown",
      "metadata": {
        "id": "nbR6eHNstBPl"
      },
      "source": [
        "Bai 5"
      ]
    },
    {
      "cell_type": "code",
      "metadata": {
        "colab": {
          "base_uri": "https://localhost:8080/"
        },
        "id": "ickte3J8tCB4",
        "outputId": "95a66195-4726-47b2-876c-6c3efd6061d2"
      },
      "source": [
        "def smallest_value_skip(reader):\n",
        "    line = skip_header(reader).strip()\n",
        "    # Only execute this code, if there is data following the header.\n",
        "    if line != '':\n",
        "        smallest = line\n",
        "    for line in reader:\n",
        "        line = line.strip()\n",
        "        if line != '-':\n",
        "            value = line\n",
        "            smallest = min(smallest, value)\n",
        "    return smallest\n",
        "\n",
        "input_file = open('PhiLong.txt', 'r')\n",
        "print(smallest_value_skip(input_file))\n",
        "input_file.close()"
      ],
      "execution_count": 6,
      "outputs": [
        {
          "output_type": "stream",
          "name": "stdout",
          "text": [
            "21\n"
          ]
        }
      ]
    },
    {
      "cell_type": "markdown",
      "metadata": {
        "id": "qC25VXyDt8jA"
      },
      "source": [
        "Bai 6\n"
      ]
    },
    {
      "cell_type": "code",
      "metadata": {
        "colab": {
          "base_uri": "https://localhost:8080/"
        },
        "id": "oOcAiL9Jt-Sl",
        "outputId": "bec1d90a-2c78-4363-dedd-401a72e172b2"
      },
      "source": [
        "def smallest_value_skip2(reader):\n",
        "    line = skip_header(reader).strip()\n",
        "    # Now line contains the first data value; this is also the smallest value\n",
        "    # found so far, because it is the only one we have seen.\n",
        "    smallest = line\n",
        "\n",
        "    for line in reader: \n",
        "        line = line.strip()\n",
        "        if line == '-':\n",
        "            continue\n",
        "\n",
        "    value = line\n",
        "    smallest = min(smallest, value)\n",
        "\n",
        "    return smallest\n",
        "\n",
        "input_file = open('PhiLong.txt', 'r')\n",
        "print(smallest_value_skip2(input_file))\n",
        "input_file.close()"
      ],
      "execution_count": 7,
      "outputs": [
        {
          "output_type": "stream",
          "name": "stdout",
          "text": [
            "CNTT\n"
          ]
        }
      ]
    },
    {
      "cell_type": "markdown",
      "metadata": {
        "id": "-dqJJWPHuTZ_"
      },
      "source": [
        "Bai 7"
      ]
    },
    {
      "cell_type": "code",
      "metadata": {
        "colab": {
          "base_uri": "https://localhost:8080/"
        },
        "id": "Z9yZnUPUuUb3",
        "outputId": "7085519e-191a-4358-b570-ecd12b2032ea"
      },
      "source": [
        "def read_molecule(reader):\n",
        "    content = []\n",
        "    for line in reader:\n",
        "        if not line.startswith('CMNT'):\n",
        "            if not line.isspace():\n",
        "                content.append(line.strip())\n",
        "    for line in content:\n",
        "        print(line)\n",
        "    \n",
        "input_file = open('PhiLong.pdb', 'r')\n",
        "print(read_molecule(input_file))\n",
        "input_file.close()"
      ],
      "execution_count": 9,
      "outputs": [
        {
          "output_type": "stream",
          "name": "stdout",
          "text": [
            "Tran Phi Long\n",
            "Ho Chi Minh\n",
            "21\n",
            "CNTT\n",
            "None\n"
          ]
        }
      ]
    }
  ]
}