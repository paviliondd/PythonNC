{
  "nbformat": 4,
  "nbformat_minor": 0,
  "metadata": {
    "colab": {
      "name": "Lab04.ipynb",
      "provenance": [],
      "authorship_tag": "ABX9TyOGm9PC6n/B7XepUqRJ9iBc",
      "include_colab_link": true
    },
    "kernelspec": {
      "name": "python3",
      "display_name": "Python 3"
    },
    "language_info": {
      "name": "python"
    }
  },
  "cells": [
    {
      "cell_type": "markdown",
      "metadata": {
        "id": "view-in-github",
        "colab_type": "text"
      },
      "source": [
        "<a href=\"https://colab.research.google.com/github/paviliondd/PythonNC/blob/main/Lab04/Lab04.ipynb\" target=\"_parent\"><img src=\"https://colab.research.google.com/assets/colab-badge.svg\" alt=\"Open In Colab\"/></a>"
      ]
    },
    {
      "cell_type": "markdown",
      "metadata": {
        "id": "1pTC2cFIIgkm"
      },
      "source": [
        "Bai 1:"
      ]
    },
    {
      "cell_type": "code",
      "metadata": {
        "colab": {
          "base_uri": "https://localhost:8080/"
        },
        "id": "54P2rOCtIIEO",
        "outputId": "73e8fb6a-c410-402e-f139-73476ea38a62"
      },
      "source": [
        "def find_dups(L):\n",
        "    elem_set = set()\n",
        "    dups_set = set()\n",
        "    for entry in L:\n",
        "        len_initial = len(elem_set)\n",
        "        elem_set.add(entry)\n",
        "        len_after = len(elem_set)\n",
        "        if len_initial == len_after:\n",
        "            dups_set.add(entry)\n",
        "    return(dups_set)\n",
        "list_integers = [1,1,2,2,3,3,4,5,6,7,8,9]\n",
        "find_dups(list_integers)"
      ],
      "execution_count": 1,
      "outputs": [
        {
          "output_type": "execute_result",
          "data": {
            "text/plain": [
              "{1, 2, 3}"
            ]
          },
          "metadata": {},
          "execution_count": 1
        }
      ]
    },
    {
      "cell_type": "markdown",
      "metadata": {
        "id": "F-3PD0LtIiuS"
      },
      "source": [
        "Bai 2:"
      ]
    },
    {
      "cell_type": "code",
      "metadata": {
        "colab": {
          "base_uri": "https://localhost:8080/",
          "height": 229
        },
        "id": "8paW-euxIM1q",
        "outputId": "e313ce89-f660-4e8f-f44f-066c5e532e23"
      },
      "source": [
        "def read_molecule(reader):\n",
        "    \n",
        "    line = reader.readline()\n",
        "    if not line:\n",
        "        return None\n",
        "\n",
        "    key, name = line.split()\n",
        "\n",
        "    molecule = [name]\n",
        "    line = reader.readline()\n",
        "    \n",
        "   \n",
        "    while not line.startswith('END'):\n",
        "        key, num, atom_type, x, y, z = line.split()\n",
        "        molecule.append([atom_type, x, y, z])\n",
        "        line = reader.readline()\n",
        "    return molecule\n",
        "\n",
        "def read_all_molecules(reader):\n",
        "    result = []\n",
        "    reading = True\n",
        "    while reading:\n",
        "        molecule = read_molecule(reader)\n",
        "        if molecule: \n",
        "            result.append(molecule)\n",
        "        else:\n",
        "            reading = False\n",
        "    return result\n",
        "if __name__ == \"__main__\":\n",
        "    molecule_file = open('/content/sample_data/multimol','r')\n",
        "    molecules = read_all_molecules(molecule_file)\n",
        "    print(molecules)"
      ],
      "execution_count": 2,
      "outputs": [
        {
          "output_type": "error",
          "ename": "FileNotFoundError",
          "evalue": "ignored",
          "traceback": [
            "\u001b[0;31m---------------------------------------------------------------------------\u001b[0m",
            "\u001b[0;31mFileNotFoundError\u001b[0m                         Traceback (most recent call last)",
            "\u001b[0;32m<ipython-input-2-b91d063c0bc0>\u001b[0m in \u001b[0;36m<module>\u001b[0;34m()\u001b[0m\n\u001b[1;32m     28\u001b[0m     \u001b[0;32mreturn\u001b[0m \u001b[0mresult\u001b[0m\u001b[0;34m\u001b[0m\u001b[0;34m\u001b[0m\u001b[0m\n\u001b[1;32m     29\u001b[0m \u001b[0;32mif\u001b[0m \u001b[0m__name__\u001b[0m \u001b[0;34m==\u001b[0m \u001b[0;34m\"__main__\"\u001b[0m\u001b[0;34m:\u001b[0m\u001b[0;34m\u001b[0m\u001b[0;34m\u001b[0m\u001b[0m\n\u001b[0;32m---> 30\u001b[0;31m     \u001b[0mmolecule_file\u001b[0m \u001b[0;34m=\u001b[0m \u001b[0mopen\u001b[0m\u001b[0;34m(\u001b[0m\u001b[0;34m'/content/sample_data/multimol'\u001b[0m\u001b[0;34m,\u001b[0m\u001b[0;34m'r'\u001b[0m\u001b[0;34m)\u001b[0m\u001b[0;34m\u001b[0m\u001b[0;34m\u001b[0m\u001b[0m\n\u001b[0m\u001b[1;32m     31\u001b[0m     \u001b[0mmolecules\u001b[0m \u001b[0;34m=\u001b[0m \u001b[0mread_all_molecules\u001b[0m\u001b[0;34m(\u001b[0m\u001b[0mmolecule_file\u001b[0m\u001b[0;34m)\u001b[0m\u001b[0;34m\u001b[0m\u001b[0;34m\u001b[0m\u001b[0m\n\u001b[1;32m     32\u001b[0m     \u001b[0mprint\u001b[0m\u001b[0;34m(\u001b[0m\u001b[0mmolecules\u001b[0m\u001b[0;34m)\u001b[0m\u001b[0;34m\u001b[0m\u001b[0;34m\u001b[0m\u001b[0m\n",
            "\u001b[0;31mFileNotFoundError\u001b[0m: [Errno 2] No such file or directory: '/content/sample_data/multimol'"
          ]
        }
      ]
    },
    {
      "cell_type": "markdown",
      "metadata": {
        "id": "iBGujQruIj8i"
      },
      "source": [
        "Bai 3:"
      ]
    },
    {
      "cell_type": "code",
      "metadata": {
        "colab": {
          "base_uri": "https://localhost:8080/"
        },
        "id": "YpvDSXdgINzV",
        "outputId": "48c35a37-d479-4368-93d3-f98549a9c513"
      },
      "source": [
        "def mating_pairs(males, females):\n",
        "    try:\n",
        "        pairs = set()\n",
        "        num_gerbils = len(males)\n",
        "        for i in range(num_gerbils):\n",
        "            male = males.pop()\n",
        "            female = females.pop()\n",
        "            pairs.add((male, female),)\n",
        "        return pairs\n",
        "    except:\n",
        "        return print(\"Số lượng Males và Females phải bằng nhau\")\n",
        "males = {'Nam1', 'Nam2', 'Nam3'}\n",
        "females = {'Nu1', 'Nu2', 'Nu3'}\n",
        "mating_pairs(males, females)"
      ],
      "execution_count": 3,
      "outputs": [
        {
          "output_type": "execute_result",
          "data": {
            "text/plain": [
              "{('Nam1', 'Nu3'), ('Nam2', 'Nu2'), ('Nam3', 'Nu1')}"
            ]
          },
          "metadata": {},
          "execution_count": 3
        }
      ]
    },
    {
      "cell_type": "markdown",
      "metadata": {
        "id": "0VPekmSnIlFg"
      },
      "source": [
        "Bai 4:"
      ]
    },
    {
      "cell_type": "code",
      "metadata": {
        "id": "onhO3odDIRcX"
      },
      "source": [
        "def get_authors(filenames):\n",
        "    authors = set()\n",
        "    for filename in filenames:\n",
        "        for line in open(filename,'r'):\n",
        "            if line.lower().startswith('author'):\n",
        "                author = line[6:].strip()\n",
        "                authors.add(author)\n",
        "    return authors\n",
        "if __name__ == \"__main__\":\n",
        "    list_file = ['/content/sample_data/PDB_1','/content/sample_data/PDB_2']\n",
        "    print(get_authors(list_file))"
      ],
      "execution_count": null,
      "outputs": []
    },
    {
      "cell_type": "markdown",
      "metadata": {
        "id": "XzulZzbkIl_V"
      },
      "source": [
        "Bai 5:"
      ]
    },
    {
      "cell_type": "code",
      "metadata": {
        "colab": {
          "base_uri": "https://localhost:8080/"
        },
        "id": "kaQXcRRIIUIj",
        "outputId": "937be4ab-4798-48ec-f3f8-f3ddbb8adc4d"
      },
      "source": [
        "from typing import Dict\n",
        "def count_values(inDict: Dict) -> int:\n",
        "    \n",
        "    finalList = []\n",
        "\n",
        "    for i in inDict.values():\n",
        "        if i not in finalList:\n",
        "            finalList.append(i)\n",
        "    \n",
        "    return len(finalList)\n",
        "\n",
        "\n",
        "\n",
        "color = {'red':1,'green':1,'blue':2}\n",
        "\n",
        "#How to use it:\n",
        "\n",
        "print(count_values(color))"
      ],
      "execution_count": 4,
      "outputs": [
        {
          "output_type": "stream",
          "name": "stdout",
          "text": [
            "2\n"
          ]
        }
      ]
    },
    {
      "cell_type": "markdown",
      "metadata": {
        "id": "QqSXvYI2InPI"
      },
      "source": [
        "Bai 6:"
      ]
    },
    {
      "cell_type": "code",
      "metadata": {
        "colab": {
          "base_uri": "https://localhost:8080/"
        },
        "id": "eJ28764OIWGW",
        "outputId": "8da6e43d-2174-4274-d861-6cdca0f4a0b2"
      },
      "source": [
        "def leastProbable(particleDict: Dict[str, float]) -> str:\n",
        "    minValue = min(particleDict.values())\n",
        "    printValue = ''\n",
        "    for key,value in particleDict.items():\n",
        "        if value == minValue:\n",
        "            return key\n",
        "\n",
        "\n",
        "values = { 'neutron ': 0.55,  'proton ': 0.21,  'meson ': 0.03,  'muon ': 0.07,  'neutrino ': 0.14}\n",
        "print(leastProbable(values))"
      ],
      "execution_count": 5,
      "outputs": [
        {
          "output_type": "stream",
          "name": "stdout",
          "text": [
            "meson \n"
          ]
        }
      ]
    },
    {
      "cell_type": "markdown",
      "metadata": {
        "id": "Y7du3jO-IoLE"
      },
      "source": [
        "Bai 7:"
      ]
    },
    {
      "cell_type": "code",
      "metadata": {
        "colab": {
          "base_uri": "https://localhost:8080/"
        },
        "id": "P9nti0itIYLF",
        "outputId": "96fa9c27-7665-4fee-941d-2e7bda7b8495"
      },
      "source": [
        "def count_duplicates(inDict) -> int:\n",
        "\n",
        "    lstAllValues = []\n",
        "    lstAdditional = []\n",
        "    lstFinal = []\n",
        "\n",
        "    for i in inDict.values():\n",
        "        lstAllValues.append(i)\n",
        "        lstAdditional.append(i)\n",
        "    \n",
        "    lstFinal = set(lstAllValues).intersection(lstAdditional)\n",
        "\n",
        "    return(len(lstAllValues) - len(lstFinal))\n",
        "\n",
        "# How to use it :\n",
        "\n",
        "number = {'one' : 1, 'two' : 2, 'two1' : 2, 'three1' : 3,'three' : 3}\n",
        "\n",
        "print(count_duplicates(number))"
      ],
      "execution_count": 6,
      "outputs": [
        {
          "output_type": "stream",
          "name": "stdout",
          "text": [
            "2\n"
          ]
        }
      ]
    },
    {
      "cell_type": "markdown",
      "metadata": {
        "id": "ODSORaMjIqI9"
      },
      "source": [
        "Bai 8:"
      ]
    },
    {
      "cell_type": "code",
      "metadata": {
        "colab": {
          "base_uri": "https://localhost:8080/"
        },
        "id": "4Uvs657NIcR5",
        "outputId": "33edb7b8-12e8-404c-8c65-60c4a275e869"
      },
      "source": [
        "def is_balanced (inDict:[str, float]) -> bool:\n",
        "    \n",
        "    sumVar = 0.0\n",
        "\n",
        "    for i in inDict.values():\n",
        "        sumVar = sumVar + i \n",
        "\n",
        "    return sumVar == 1\n",
        "\n",
        "\n",
        "RGB = {'R' : 0.2 , 'G' : 0.2, 'B' : 0.6}\n",
        "\n",
        "print(is_balanced(RGB))"
      ],
      "execution_count": 7,
      "outputs": [
        {
          "output_type": "stream",
          "name": "stdout",
          "text": [
            "True\n"
          ]
        }
      ]
    },
    {
      "cell_type": "markdown",
      "metadata": {
        "id": "kNjjz2c-IrOT"
      },
      "source": [
        "Bai 9:"
      ]
    },
    {
      "cell_type": "code",
      "metadata": {
        "colab": {
          "base_uri": "https://localhost:8080/"
        },
        "id": "5qNyb57oId0G",
        "outputId": "e642492f-75d8-434b-8b49-c775f11893d2"
      },
      "source": [
        "def dict_intersect(inDict, inDict1) -> dict :\n",
        "    \n",
        "    return dict(inDict.items() & inDict1.items())\n",
        "\n",
        "\n",
        "\n",
        "# How to use it :\n",
        "\n",
        "Dictionary0 = {'one' : 1, 'two' : 2 }\n",
        "Dictionary1 = {'one' : 1, 'three' : 2 }\n",
        "\n",
        "print(dict_intersect(Dictionary0,Dictionary1))"
      ],
      "execution_count": 8,
      "outputs": [
        {
          "output_type": "stream",
          "name": "stdout",
          "text": [
            "{'one': 1}\n"
          ]
        }
      ]
    }
  ]
}