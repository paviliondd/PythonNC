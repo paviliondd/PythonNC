{
  "nbformat": 4,
  "nbformat_minor": 0,
  "metadata": {
    "colab": {
      "name": "lab01.ipynb",
      "provenance": [],
      "authorship_tag": "ABX9TyM63xaXUTAFUlXvA6pWuyem",
      "include_colab_link": true
    },
    "kernelspec": {
      "name": "python3",
      "display_name": "Python 3"
    },
    "language_info": {
      "name": "python"
    }
  },
  "cells": [
    {
      "cell_type": "markdown",
      "metadata": {
        "id": "view-in-github",
        "colab_type": "text"
      },
      "source": [
        "<a href=\"https://colab.research.google.com/github/paviliondd/PythoNC/blob/main/lab01/lab01.ipynb\" target=\"_parent\"><img src=\"https://colab.research.google.com/assets/colab-badge.svg\" alt=\"Open In Colab\"/></a>"
      ]
    },
    {
      "cell_type": "markdown",
      "metadata": {
        "id": "USZTFNQ3ShfE"
      },
      "source": [
        "Bài1:"
      ]
    },
    {
      "cell_type": "code",
      "metadata": {
        "colab": {
          "base_uri": "https://localhost:8080/"
        },
        "id": "dEE9xdDLQlyD",
        "outputId": "33953dda-02a9-495d-a56d-1ffd0898ca2b"
      },
      "source": [
        "min(2,3,4)"
      ],
      "execution_count": null,
      "outputs": [
        {
          "output_type": "stream",
          "name": "stdout",
          "text": [
            "2\n"
          ]
        }
      ]
    },
    {
      "cell_type": "code",
      "metadata": {
        "colab": {
          "base_uri": "https://localhost:8080/"
        },
        "id": "pGvngz2xXhWa",
        "outputId": "96f0e889-88ee-44e9-fc75-00ed87194ea4"
      },
      "source": [
        "max(2,-3,4,7,5)"
      ],
      "execution_count": null,
      "outputs": [
        {
          "output_type": "execute_result",
          "data": {
            "text/plain": [
              "7"
            ]
          },
          "metadata": {},
          "execution_count": 4
        }
      ]
    },
    {
      "cell_type": "code",
      "metadata": {
        "colab": {
          "base_uri": "https://localhost:8080/"
        },
        "id": "_qY02mLFX5iZ",
        "outputId": "434abd29-0ccf-45dc-8b09-d48c187ed9f0"
      },
      "source": [
        "max(2,-33,min(4,7),-5)"
      ],
      "execution_count": null,
      "outputs": [
        {
          "output_type": "execute_result",
          "data": {
            "text/plain": [
              "4"
            ]
          },
          "metadata": {},
          "execution_count": 6
        }
      ]
    },
    {
      "cell_type": "markdown",
      "metadata": {
        "id": "G0G-WJmEissR"
      },
      "source": [
        "Bai 2:"
      ]
    },
    {
      "cell_type": "code",
      "metadata": {
        "colab": {
          "base_uri": "https://localhost:8080/"
        },
        "id": "3XVy5-NxiwHr",
        "outputId": "53f913c5-1735-4944-f28b-31eddf5e2b8b"
      },
      "source": [
        "min(max(3,4),abs(-5))"
      ],
      "execution_count": 1,
      "outputs": [
        {
          "output_type": "execute_result",
          "data": {
            "text/plain": [
              "4"
            ]
          },
          "metadata": {},
          "execution_count": 1
        }
      ]
    },
    {
      "cell_type": "code",
      "metadata": {
        "colab": {
          "base_uri": "https://localhost:8080/"
        },
        "id": "Y5MiUabSi4wT",
        "outputId": "6b536388-02e4-4e20-b72c-7f1ef77b6f5d"
      },
      "source": [
        "abs(min(4,6,max(2,8)))"
      ],
      "execution_count": 2,
      "outputs": [
        {
          "output_type": "execute_result",
          "data": {
            "text/plain": [
              "4"
            ]
          },
          "metadata": {},
          "execution_count": 2
        }
      ]
    },
    {
      "cell_type": "code",
      "metadata": {
        "colab": {
          "base_uri": "https://localhost:8080/"
        },
        "id": "QcvkbynEi-3k",
        "outputId": "6dde7fce-dc7b-45b3-9d26-0b75afb165fb"
      },
      "source": [
        "round(max(5.572,3.258),abs(-2))"
      ],
      "execution_count": 3,
      "outputs": [
        {
          "output_type": "execute_result",
          "data": {
            "text/plain": [
              "5.57"
            ]
          },
          "metadata": {},
          "execution_count": 3
        }
      ]
    },
    {
      "cell_type": "markdown",
      "metadata": {
        "id": "K0WXEPhVjHKI"
      },
      "source": [
        "Bai 3:"
      ]
    },
    {
      "cell_type": "code",
      "metadata": {
        "id": "HALXqnW1jJnS"
      },
      "source": [
        "def triple(num):\n",
        "  \"\"\"(number) -> number\n",
        "  Return num tripled.\n",
        "  >>>triple(3)\n",
        "  9\n",
        "  \"\"\"\n",
        "  return num * 3\n"
      ],
      "execution_count": 10,
      "outputs": []
    },
    {
      "cell_type": "markdown",
      "metadata": {
        "id": "VVACHc3UjjFh"
      },
      "source": [
        "Bai 4:"
      ]
    },
    {
      "cell_type": "code",
      "metadata": {
        "id": "Pfka6fS9j3tF"
      },
      "source": [
        "def absolute_difference(number1, number2):\n",
        "  \"\"\" (number, number) -> number\n",
        "  Return the absolute value of the difference between number1\n",
        "  and number2.\n",
        "  >>> absolute_difference(3, 7)\n",
        "  4\n",
        "   \"\"\"\n",
        "  return abs(number1 - number2)"
      ],
      "execution_count": 12,
      "outputs": []
    },
    {
      "cell_type": "markdown",
      "metadata": {
        "id": "VpoVV-Twj-B9"
      },
      "source": [
        "Bai 5:"
      ]
    },
    {
      "cell_type": "code",
      "metadata": {
        "id": "nJIIX-HPj9d5"
      },
      "source": [
        "def km_to_miles(km):\n",
        "  \"\"\" (number) -> float\n",
        "  Return the distance km in miles.\n",
        "  >>> km_to_miles(5)\n",
        "  3.125\n",
        "  \"\"\"\n",
        "  return km / 1.6"
      ],
      "execution_count": 13,
      "outputs": []
    }
  ]
}